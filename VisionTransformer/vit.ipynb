{
 "cells": [
  {
   "cell_type": "code",
   "execution_count": null,
   "metadata": {
    "id": "Ua46JIaIgi9X"
   },
   "outputs": [
    {
     "name": "stdout",
     "output_type": "stream",
     "text": [
      "Namespace(img_size=32, patch_size=4, batch_size=128, save_acc=50, epochs=501, lr=0.002, drop_rate=0.1, weight_decay=0.0002, num_classes=10, latent_vec_dim=128, num_heads=8, num_layers=12, dataname='cifar10', mode='train', pretrained=True)\n",
      "Downloading https://www.cs.toronto.edu/~kriz/cifar-10-python.tar.gz to ./data/cifar-10-python.tar.gz\n",
      "100%|████████████████████████████████████████| 170M/170M [00:28<00:00, 6.05MB/s]\n",
      "Extracting ./data/cifar-10-python.tar.gz to ./data\n",
      "Files already downloaded and verified\n",
      "/workspace/git/sinbakai/VisionTransformer/vit.py:50: FutureWarning: You are using `torch.load` with `weights_only=False` (the current default value), which uses the default pickle module implicitly. It is possible to construct malicious pickle data which will execute arbitrary code during unpickling (See https://github.com/pytorch/pytorch/blob/main/SECURITY.md#untrusted-models for more details). In a future release, the default value for `weights_only` will be flipped to `True`. This limits the functions that could be executed during unpickling. Arbitrary objects will no longer be allowed to be loaded via this mode unless they are explicitly allowlisted by the user via `torch.serialization.add_safe_globals`. We recommend you start setting `weights_only=True` for any use case where you don't have full control of the loaded file. Please open an issue on GitHub for any issues related to this experimental feature.\n",
      "  vit.load_state_dict(torch.load('./model.pth'))\n",
      "[0] train loss: 0.364, validation loss: 0.501, validation acc 83.42 %\n",
      "[1] train loss: 0.387, validation loss: 0.481, validation acc 84.16 %\n",
      "[2] train loss: 0.409, validation loss: 0.482, validation acc 83.88 %\n",
      "[3] train loss: 0.422, validation loss: 0.475, validation acc 83.72 %\n"
     ]
    }
   ],
   "source": [
    "!python vit.py --pretrained 1 --drop_rate 0.1 --weight_decay 2e-4"
   ]
  },
  {
   "cell_type": "code",
   "execution_count": 4,
   "metadata": {
    "colab": {
     "base_uri": "https://localhost:8080/"
    },
    "executionInfo": {
     "elapsed": 27916,
     "status": "ok",
     "timestamp": 1646319157847,
     "user": {
      "displayName": "딥러닝호형",
      "photoUrl": "https://lh3.googleusercontent.com/a-/AOh14GhhDjkGnBZ0JW1k2J6y2lNP9dJeVbQWPuZEpfUc=s64",
      "userId": "11263585794403583722"
     },
     "user_tz": -60
    },
    "id": "7yxwUiHR2TbN",
    "outputId": "b9b0ec2f-acc4-41fd-b8c7-0ccdb618154f"
   },
   "outputs": [
    {
     "name": "stdout",
     "output_type": "stream",
     "text": [
      "Namespace(batch_size=128, dataname='cifar10', drop_rate=0.1, epochs=501, img_size=32, latent_vec_dim=128, lr=0.002, mode='test', num_classes=10, num_heads=8, num_layers=12, patch_size=4, pretrained=1, save_acc=50, weight_decay=0)\n",
      "Downloading https://www.cs.toronto.edu/~kriz/cifar-10-python.tar.gz to ./data/cifar-10-python.tar.gz\n",
      "170499072it [00:03, 47095510.84it/s]                   \n",
      "Extracting ./data/cifar-10-python.tar.gz to ./data\n",
      "Files already downloaded and verified\n",
      "test loss: 0.501, test acc 84.64 %\n"
     ]
    }
   ],
   "source": [
    "!python vit.py --pretrained 1 --mode test"
   ]
  },
  {
   "cell_type": "code",
   "execution_count": null,
   "metadata": {
    "id": "80iTjf3Cf-K6"
   },
   "outputs": [],
   "source": []
  }
 ],
 "metadata": {
  "accelerator": "GPU",
  "colab": {
   "collapsed_sections": [],
   "name": "vit.ipynb",
   "provenance": []
  },
  "kernelspec": {
   "display_name": "aicontent",
   "language": "python",
   "name": "python3"
  },
  "language_info": {
   "codemirror_mode": {
    "name": "ipython",
    "version": 3
   },
   "file_extension": ".py",
   "mimetype": "text/x-python",
   "name": "python",
   "nbconvert_exporter": "python",
   "pygments_lexer": "ipython3",
   "version": "3.10.8"
  }
 },
 "nbformat": 4,
 "nbformat_minor": 0
}
